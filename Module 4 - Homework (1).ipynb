{
 "cells": [
  {
   "cell_type": "markdown",
   "metadata": {},
   "source": [
    "### Exercise 1: \n",
    "\n",
    "Review the code in the following cell. This programmer was attempting to create a list of numbers and a list of even numbers between two values given by a user. The numbers list should include all numbers, and the evens list should include only even numbers. Use what you learned in Module 4 to fix the code and run it successfully!"
   ]
  },
  {
   "cell_type": "code",
   "execution_count": 11,
   "metadata": {},
   "outputs": [
    {
     "name": "stdout",
     "output_type": "stream",
     "text": [
      "Enter the first number: 20\n",
      "Enter the last number: 30\n",
      "[20, 21, 22, 23, 24, 25, 26, 27, 28, 29, 30, 31, 32]\n",
      "[20, 22, 24, 26, 28, 30, 32]\n"
     ]
    }
   ],
   "source": [
    "no1 = int(input(\"Enter the first number: \")) # convert the value entered to an integer\n",
    "no2 = int(input(\"Enter the last number: \")) # convert the value entered to an integer\n",
    "\n",
    "numbers = []\n",
    "evens = [] # the numbers entered should be in square brakets\n",
    "\n",
    "for i in range(no1, no2 + 1) : # \"in\" not \"is\" & need to add 1 to the ending number so the full range is included\n",
    "    numbers.append(i) \n",
    "    if i%2 == 0 : # no parenthases, need % not division, missing colon\n",
    "        evens.append(i)\n",
    "    \n",
    "print(numbers)  \n",
    "print(evens)"
   ]
  },
  {
   "cell_type": "markdown",
   "metadata": {},
   "source": [
    "### Exercise 2:\n",
    "\n",
    "Define a function called <b>draw_triangle()</b> to draw a right triangle where the base of the triangle is the number given by a user and the rest of the triangle builds to the base value. Use the function to show that it works. \n",
    "\n",
    "e.g. <b>draw_triangle(7)</b> draws as below:\n",
    "\n",
    "    *\n",
    "    **\n",
    "    ***\n",
    "    ****\n",
    "    *****\n",
    "    ******\n",
    "    *******\n"
   ]
  },
  {
   "cell_type": "code",
   "execution_count": 15,
   "metadata": {},
   "outputs": [],
   "source": [
    "# draw a right triangle asking the user to enter base number\n",
    "\n",
    "def draw_triangle(base):\n",
    "    for num in range(1, base + 1):\n",
    "        print(\"*\" * num)\n",
    "    "
   ]
  },
  {
   "cell_type": "code",
   "execution_count": 17,
   "metadata": {},
   "outputs": [
    {
     "name": "stdout",
     "output_type": "stream",
     "text": [
      "Enter a number: 10\n",
      "*\n",
      "**\n",
      "***\n",
      "****\n",
      "*****\n",
      "******\n",
      "*******\n",
      "********\n",
      "*********\n"
     ]
    }
   ],
   "source": [
    "# applying the function above to draw the triange \n",
    "\n",
    "base = int(input(\"Enter a number: \"))\n",
    "\n",
    "draw_triangle(base)"
   ]
  },
  {
   "cell_type": "markdown",
   "metadata": {},
   "source": [
    "### Exercise 3:\n",
    "\n",
    "A furniture store organizes all items by the section of the store they are stored in. Each section has a number cooresponding to that section. A new branch of the furniture store is opening up, and it's up to you to quickly organize the merchandise into different sections. Create a list of numbers ranging from 1 - 5. Create a list of any three furniture items (i.e. table, lamp, etc). \n",
    "\n",
    "Using a for-loop, return a list of furniture items. Next to each furniture item should be the number of the section of the store the furniture item should be stored (i.e. 3 table, 3 lamp, 3 chair)."
   ]
  },
  {
   "cell_type": "code",
   "execution_count": 2,
   "metadata": {},
   "outputs": [
    {
     "name": "stdout",
     "output_type": "stream",
     "text": [
      "1 bed\n",
      "1 sofa\n",
      "1 lamp\n",
      "1 chair\n",
      "2 bed\n",
      "2 sofa\n",
      "2 lamp\n",
      "2 chair\n",
      "3 bed\n",
      "3 sofa\n",
      "3 lamp\n",
      "3 chair\n",
      "4 bed\n",
      "4 sofa\n",
      "4 lamp\n",
      "4 chair\n",
      "5 bed\n",
      "5 sofa\n",
      "5 lamp\n",
      "5 chair\n"
     ]
    }
   ],
   "source": [
    "numbers = [1, 2, 3, 4, 5]\n",
    "furniture = [\"bed\", \"sofa\", \"lamp\", \"chair\"]\n",
    "\n",
    "for num in numbers:\n",
    "    for item in furniture:\n",
    "        print(num, item)"
   ]
  },
  {
   "cell_type": "markdown",
   "metadata": {},
   "source": [
    "### Exercise 4:\n",
    "\n",
    "What is the highest value \"a\" can be for the following code to return a value of \"3\"?"
   ]
  },
  {
   "cell_type": "code",
   "execution_count": 9,
   "metadata": {},
   "outputs": [
    {
     "name": "stdout",
     "output_type": "stream",
     "text": [
      "3\n"
     ]
    }
   ],
   "source": [
    "# the highest value can be: 5\n",
    "\n",
    "x = 0\n",
    "a = 5\n",
    "b = 5\n",
    "\n",
    "if a > 0: # \"a\" cannot be below 0\n",
    "    if b < 0: # not true; skip\n",
    "        x = x + 5\n",
    "    elif a > 5: # \"a\" cannot be greater than 5; x would be 4\n",
    "        x = x + 4\n",
    "    else: # \"a\" can be equal to 5 for x to be 3\n",
    "        x = x + 3\n",
    "else:  # if \"a\" is less than 0, x will be 2\n",
    "    x = x + 2\n",
    "print(x)"
   ]
  }
 ],
 "metadata": {
  "kernelspec": {
   "display_name": "Python 3 (ipykernel)",
   "language": "python",
   "name": "python3"
  },
  "language_info": {
   "codemirror_mode": {
    "name": "ipython",
    "version": 3
   },
   "file_extension": ".py",
   "mimetype": "text/x-python",
   "name": "python",
   "nbconvert_exporter": "python",
   "pygments_lexer": "ipython3",
   "version": "3.9.13"
  }
 },
 "nbformat": 4,
 "nbformat_minor": 4
}
